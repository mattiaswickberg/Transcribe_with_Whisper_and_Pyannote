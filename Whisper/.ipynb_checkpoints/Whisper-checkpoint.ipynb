{
 "cells": [
  {
   "cell_type": "code",
   "execution_count": 1,
   "id": "6a027dcd",
   "metadata": {},
   "outputs": [],
   "source": [
    "import whisper\n",
    "import subprocess #if stripping audio from video file\n",
    "import datetime #to print time of start and end of analysis"
   ]
  },
  {
   "cell_type": "code",
   "execution_count": 2,
   "id": "24b4b53e",
   "metadata": {},
   "outputs": [],
   "source": [
    "# Choose and load model size\n",
    "model_size= \"small\"\n",
    "base_model = whisper.load_model(model_size)"
   ]
  },
  {
   "cell_type": "code",
   "execution_count": 3,
   "id": "552a66a1",
   "metadata": {},
   "outputs": [],
   "source": [
    "#Path to file that needs to be transcribed\n",
    "#This should be modified to cycle through files in a folder\n",
    "path = \"TestFilm.mov\""
   ]
  },
  {
   "cell_type": "code",
   "execution_count": 4,
   "id": "2ec355b1",
   "metadata": {},
   "outputs": [],
   "source": [
    "# Strip audio from video file. Not necessary for Whisper, but possible for running other analyses\n",
    "\n",
    "#subprocess.call(['ffmpeg', '-i', path, 'audio.wav', '-y'])\n",
    "#path= 'audio.wav'"
   ]
  },
  {
   "cell_type": "code",
   "execution_count": 5,
   "id": "6f4fb0d0",
   "metadata": {
    "scrolled": false
   },
   "outputs": [
    {
     "name": "stdout",
     "output_type": "stream",
     "text": [
      "2023-02-07 09:13:58.776435\n"
     ]
    },
    {
     "ename": "NameError",
     "evalue": "name 'result' is not defined",
     "output_type": "error",
     "traceback": [
      "\u001b[0;31m---------------------------------------------------------------------------\u001b[0m",
      "\u001b[0;31mNameError\u001b[0m                                 Traceback (most recent call last)",
      "Cell \u001b[0;32mIn[5], line 4\u001b[0m\n\u001b[1;32m      2\u001b[0m \u001b[38;5;66;03m#result = \u001b[39;00m\n\u001b[1;32m      3\u001b[0m base_model\u001b[38;5;241m.\u001b[39mtranscribe(path)\n\u001b[0;32m----> 4\u001b[0m \u001b[38;5;28mprint\u001b[39m(\u001b[43mresult\u001b[49m[\u001b[38;5;124m\"\u001b[39m\u001b[38;5;124mtext\u001b[39m\u001b[38;5;124m\"\u001b[39m])\n\u001b[1;32m      5\u001b[0m \u001b[38;5;28mprint\u001b[39m(datetime\u001b[38;5;241m.\u001b[39mdatetime\u001b[38;5;241m.\u001b[39mnow())\n",
      "\u001b[0;31mNameError\u001b[0m: name 'result' is not defined"
     ]
    }
   ],
   "source": [
    "print(datetime.datetime.now())\n",
    "#result = \n",
    "base_model.transcribe(path)\n",
    "print(result[\"text\"])\n",
    "print(datetime.datetime.now())"
   ]
  },
  {
   "cell_type": "code",
   "execution_count": null,
   "id": "bfe0e76c",
   "metadata": {},
   "outputs": [],
   "source": []
  }
 ],
 "metadata": {
  "kernelspec": {
   "display_name": "Python 3 (ipykernel)",
   "language": "python",
   "name": "python3"
  },
  "language_info": {
   "codemirror_mode": {
    "name": "ipython",
    "version": 3
   },
   "file_extension": ".py",
   "mimetype": "text/x-python",
   "name": "python",
   "nbconvert_exporter": "python",
   "pygments_lexer": "ipython3",
   "version": "3.10.9"
  }
 },
 "nbformat": 4,
 "nbformat_minor": 5
}
