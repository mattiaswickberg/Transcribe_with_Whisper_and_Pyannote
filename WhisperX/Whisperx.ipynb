{
 "cells": [
  {
   "cell_type": "code",
   "execution_count": null,
   "id": "41a66c4a",
   "metadata": {},
   "outputs": [],
   "source": [
    "!pip install -qq git+https://github.com/openai/whisper.git \n",
    "!pip install git+https://github.com/m-bain/whisperx.git"
   ]
  },
  {
   "cell_type": "code",
   "execution_count": 1,
   "id": "6a027dcd",
   "metadata": {},
   "outputs": [],
   "source": [
    "import whisper\n",
    "import subprocess #if stripping audio from video file\n",
    "import datetime #to print time of start and end of analysis"
   ]
  },
  {
   "cell_type": "code",
   "execution_count": null,
   "id": "24b4b53e",
   "metadata": {},
   "outputs": [],
   "source": [
    "# Choose and load model size\n",
    "model_size= \"large-v2\"\n",
    "base_model = whisper.load_model(model_size)"
   ]
  },
  {
   "cell_type": "code",
   "execution_count": null,
   "id": "552a66a1",
   "metadata": {},
   "outputs": [],
   "source": [
    "#Path to file that needs to be transcribed\n",
    "#This should be modified to cycle through files in a folder\n",
    "path = \"STLS_NV.mp3\""
   ]
  },
  {
   "cell_type": "code",
   "execution_count": null,
   "id": "2ec355b1",
   "metadata": {},
   "outputs": [],
   "source": [
    "# Strip audio from video file. Not necessary for Whisper, but possible for running other analyses\n",
    "subprocess.call(['ffmpeg', '-i', path, 'audio.wav', '-y'])\n",
    "path= 'audio.wav'"
   ]
  },
  {
   "cell_type": "code",
   "execution_count": null,
   "id": "6f4fb0d0",
   "metadata": {
    "scrolled": false
   },
   "outputs": [],
   "source": [
    "start = datetime.datetime.now()\n",
    "\n",
    "whisperx \"audio.wav\" --model large --language sv --vad_filter --parallel_bs 16 --diarize --align_model \"KBLab/wav2vec2-large-voxrex-swedish\"\n",
    "\n",
    "end = datetime.datetime.now()\n",
    "delta = end - start\n",
    "print(\"Runtime was \" + str(delta))"
   ]
  },
  {
   "cell_type": "code",
   "execution_count": null,
   "id": "bfe0e76c",
   "metadata": {},
   "outputs": [],
   "source": []
  }
 ],
 "metadata": {
  "kernelspec": {
   "display_name": "Python 3 (ipykernel)",
   "language": "python",
   "name": "python3"
  },
  "language_info": {
   "codemirror_mode": {
    "name": "ipython",
    "version": 3
   },
   "file_extension": ".py",
   "mimetype": "text/x-python",
   "name": "python",
   "nbconvert_exporter": "python",
   "pygments_lexer": "ipython3",
   "version": "3.9.12"
  }
 },
 "nbformat": 4,
 "nbformat_minor": 5
}
