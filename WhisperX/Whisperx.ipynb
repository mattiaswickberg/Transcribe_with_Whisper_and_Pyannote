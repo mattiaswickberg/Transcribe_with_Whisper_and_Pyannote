{
 "cells": [
  {
   "cell_type": "code",
   "execution_count": null,
   "id": "41a66c4a",
   "metadata": {},
   "outputs": [],
   "source": [
    "#!pip install -qq git+https://github.com/openai/whisper.git \n",
    "#!pip install git+https://github.com/mattiaswickberg/whisperx.git"
   ]
  },
  {
   "cell_type": "code",
   "execution_count": 22,
   "id": "6a027dcd",
   "metadata": {},
   "outputs": [],
   "source": [
    "import subprocess #if stripping audio from video file\n",
    "import datetime #to print time of start and end of analysis\n"
   ]
  },
  {
   "cell_type": "code",
   "execution_count": 23,
   "id": "552a66a1",
   "metadata": {},
   "outputs": [],
   "source": [
    "#Path to file that needs to be transcribed\n",
    "#This should be modified to cycle through files in a folder\n",
    "path = \"TestFilm.mov\""
   ]
  },
  {
   "cell_type": "code",
   "execution_count": 24,
   "id": "2ec355b1",
   "metadata": {},
   "outputs": [
    {
     "name": "stderr",
     "output_type": "stream",
     "text": [
      "ffmpeg version 4.4.2-0ubuntu0.22.04.1 Copyright (c) 2000-2021 the FFmpeg developers\n",
      "  built with gcc 11 (Ubuntu 11.2.0-19ubuntu1)\n",
      "  configuration: --prefix=/usr --extra-version=0ubuntu0.22.04.1 --toolchain=hardened --libdir=/usr/lib/x86_64-linux-gnu --incdir=/usr/include/x86_64-linux-gnu --arch=amd64 --enable-gpl --disable-stripping --enable-gnutls --enable-ladspa --enable-libaom --enable-libass --enable-libbluray --enable-libbs2b --enable-libcaca --enable-libcdio --enable-libcodec2 --enable-libdav1d --enable-libflite --enable-libfontconfig --enable-libfreetype --enable-libfribidi --enable-libgme --enable-libgsm --enable-libjack --enable-libmp3lame --enable-libmysofa --enable-libopenjpeg --enable-libopenmpt --enable-libopus --enable-libpulse --enable-librabbitmq --enable-librubberband --enable-libshine --enable-libsnappy --enable-libsoxr --enable-libspeex --enable-libsrt --enable-libssh --enable-libtheora --enable-libtwolame --enable-libvidstab --enable-libvorbis --enable-libvpx --enable-libwebp --enable-libx265 --enable-libxml2 --enable-libxvid --enable-libzimg --enable-libzmq --enable-libzvbi --enable-lv2 --enable-omx --enable-openal --enable-opencl --enable-opengl --enable-sdl2 --enable-pocketsphinx --enable-librsvg --enable-libmfx --enable-libdc1394 --enable-libdrm --enable-libiec61883 --enable-chromaprint --enable-frei0r --enable-libx264 --enable-shared\n",
      "  libavutil      56. 70.100 / 56. 70.100\n",
      "  libavcodec     58.134.100 / 58.134.100\n",
      "  libavformat    58. 76.100 / 58. 76.100\n",
      "  libavdevice    58. 13.100 / 58. 13.100\n",
      "  libavfilter     7.110.100 /  7.110.100\n",
      "  libswscale      5.  9.100 /  5.  9.100\n",
      "  libswresample   3.  9.100 /  3.  9.100\n",
      "  libpostproc    55.  9.100 / 55.  9.100\n",
      "Input #0, mov,mp4,m4a,3gp,3g2,mj2, from 'TestFilm.mov':\n",
      "  Metadata:\n",
      "    major_brand     : qt  \n",
      "    minor_version   : 512\n",
      "    compatible_brands: qt  \n",
      "    encoder         : Lavf58.20.100\n",
      "  Duration: 00:01:10.36, start: 0.000000, bitrate: 657 kb/s\n",
      "  Stream #0:0(eng): Video: h264 (High) (avc1 / 0x31637661), yuv420p, 480x480 [SAR 16:9 DAR 16:9], 522 kb/s, 25 fps, 25 tbr, 12800 tbn, 50 tbc (default)\n",
      "    Metadata:\n",
      "      handler_name    : ISO Media file produced by Google Inc.\n",
      "      vendor_id       : FFMP\n",
      "      encoder         : Lavc58.35.100 libx264\n",
      "  Stream #0:1(eng): Audio: aac (LC) (mp4a / 0x6134706D), 44100 Hz, stereo, fltp, 128 kb/s (default)\n",
      "    Metadata:\n",
      "      handler_name    : ISO Media file produced by Google Inc.\n",
      "      vendor_id       : [0][0][0][0]\n",
      "Stream mapping:\n",
      "  Stream #0:1 -> #0:0 (aac (native) -> pcm_s16le (native))\n",
      "Press [q] to stop, [?] for help\n",
      "Output #0, wav, to 'audio.wav':\n",
      "  Metadata:\n",
      "    major_brand     : qt  \n",
      "    minor_version   : 512\n",
      "    compatible_brands: qt  \n",
      "    ISFT            : Lavf58.76.100\n",
      "  Stream #0:0(eng): Audio: pcm_s16le ([1][0][0][0] / 0x0001), 44100 Hz, stereo, s16, 1411 kb/s (default)\n",
      "    Metadata:\n",
      "      handler_name    : ISO Media file produced by Google Inc.\n",
      "      vendor_id       : [0][0][0][0]\n",
      "      encoder         : Lavc58.134.100 pcm_s16le\n",
      "size=   12116kB time=00:01:10.31 bitrate=1411.7kbits/s speed= 490x    \n",
      "video:0kB audio:12116kB subtitle:0kB other streams:0kB global headers:0kB muxing overhead: 0.000629%\n"
     ]
    }
   ],
   "source": [
    "# Strip audio from video file. Not necessary for Whisper, but possible for running other analyses\n",
    "subprocess.call(['ffmpeg', '-i', path, 'audio.wav', '-y'])\n",
    "path= 'audio.wav'"
   ]
  },
  {
   "cell_type": "code",
   "execution_count": 21,
   "id": "243b8513",
   "metadata": {},
   "outputs": [],
   "source": [
    "import json\n",
    "\n",
    "f = open('../credentials.json')\n",
    "credentials = json.load(f)\n",
    "hf_token = credentials[\"hf_token\"]\n",
    "wav2vec_model = credentials[\"wav2vec_base\"]"
   ]
  },
  {
   "cell_type": "code",
   "execution_count": 27,
   "id": "6f4fb0d0",
   "metadata": {
    "scrolled": true
   },
   "outputs": [
    {
     "name": "stdout",
     "output_type": "stream",
     "text": [
      "torchvision is not available - cannot save figures\n",
      "Performing VAD...\n",
      "~~ Transcribing VAD chunk: (00:00.000 --> 00:22.942) ~~\n",
      "[00:00.000 --> 00:06.560]  Innan vi slutet att det här är en veckan kunde vi läsa att det är från luvigen och Jonas köstet.\n",
      "[00:06.560 --> 00:09.560]  Lyckas pricker in sina sommatål exakt samtidigt.\n",
      "[00:09.560 --> 00:14.000]  Du vill säga vad svårt faktiskt och hänga med i båda samtidigt samtidigt.\n",
      "[00:14.000 --> 00:15.900]  Ska vi titta på?\n",
      "[00:20.140 --> 00:21.760]  Tupbeat!\n",
      "[00:21.760 --> 00:23.060]  Nu tack!\n",
      "~~ Transcribing VAD chunk: (00:23.532 --> 00:45.706) ~~\n",
      "[00:00.000 --> 00:06.140]  Varmt välkomna hit, alla som har samlat, det här är ett stort, jag hoppas att ni har haft en fin sommar.\n",
      "[00:06.400 --> 00:11.520]  Det jag har haft. Det är många som har klaga att på värdret den här sommar, ni har säkert.\n",
      "[00:14.840 --> 00:21.000]  Det var för kallt i vattnet man vill bada och det var för många mjuker runt grillen när man ska grilla.\n",
      "[00:21.000 --> 00:22.360]  Byring sinaste mötra.\n",
      "~~ Transcribing VAD chunk: (00:51.511 --> 01:09.972) ~~\n",
      "[00:00.000 --> 00:04.000]  Om skillnaden mellan männen är det som är lösningen.\n",
      "[00:05.000 --> 00:09.000]  Det kanske är då ovant att höra mig säga det jag ska säga nu.\n",
      "[00:09.000 --> 00:15.000]  Men en full vuxen man borde skytas.\n",
      "[00:15.000 --> 00:18.980]  Och detgod bor nog tid, Aha.\n",
      "Performing alignment...\n",
      "Performing diarization...\n",
      "Runtime was 0:00:53.715532\n"
     ]
    }
   ],
   "source": [
    "start = datetime.datetime.now()\n",
    "#import whisperx\n",
    "\n",
    "#device = \"cuda\" \n",
    "#audio_file = \"audio.wav\"\n",
    "\n",
    "# transcribe with original whisper\n",
    "#model = whisperx.load_model(model_size, device)\n",
    "#result = model.transcribe(audio_file)\n",
    "\n",
    "#print(result[\"segments\"]) # before alignment\n",
    "\n",
    "# load alignment model and metadata\n",
    "#model_a, metadata = whisperx.load_align_model(language_code=\"sv\",\n",
    "#                                              device=device,\n",
    "#                                              align_model=\"KBLab/wav2vec2-large-voxrex-swedish\"\n",
    "#                                             )\n",
    "\n",
    "# align whisper output\n",
    "#result_aligned = whisperx.align(result[\"segments\"], model_a, metadata, audio_file, device)\n",
    "\n",
    "#print(result_aligned[\"segments\"]) # after alignment\n",
    "#print(result_aligned[\"word_segments\"]) # after alignment\n",
    "\n",
    "!whisperx \"audio.wav\" --model tiny --language sv --hf_token {hf_token} --vad_filter --diarize --align_model {wav2vec_model}\n",
    "\n",
    "end = datetime.datetime.now()\n",
    "delta = end - start\n",
    "print(\"Runtime was \" + str(delta))"
   ]
  },
  {
   "cell_type": "code",
   "execution_count": null,
   "id": "bfe0e76c",
   "metadata": {},
   "outputs": [],
   "source": []
  },
  {
   "cell_type": "code",
   "execution_count": null,
   "id": "6ad0437f",
   "metadata": {},
   "outputs": [],
   "source": []
  }
 ],
 "metadata": {
  "kernelspec": {
   "display_name": "Python 3 (ipykernel)",
   "language": "python",
   "name": "python3"
  },
  "language_info": {
   "codemirror_mode": {
    "name": "ipython",
    "version": 3
   },
   "file_extension": ".py",
   "mimetype": "text/x-python",
   "name": "python",
   "nbconvert_exporter": "python",
   "pygments_lexer": "ipython3",
   "version": "3.10.9"
  },
  "vscode": {
   "interpreter": {
    "hash": "2c4e12c305e6735e6afde9f5feea71b06f5561a10f57b29b44d6b7254fd54df9"
   }
  }
 },
 "nbformat": 4,
 "nbformat_minor": 5
}
