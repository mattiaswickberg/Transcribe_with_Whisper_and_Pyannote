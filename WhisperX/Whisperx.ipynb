{
 "cells": [
  {
   "cell_type": "code",
   "execution_count": null,
   "id": "41a66c4a",
   "metadata": {},
   "outputs": [],
   "source": [
    "#!pip install -qq git+https://github.com/openai/whisper.git \n",
    "#!pip install git+https://github.com/mattiaswickberg/whisperx.git"
   ]
  },
  {
   "cell_type": "code",
   "execution_count": null,
   "id": "6a027dcd",
   "metadata": {},
   "outputs": [],
   "source": [
    "import subprocess #if stripping audio from video file\n",
    "import datetime #to print time of start and end of analysis\n",
    "import torch\n",
    "import torchvision"
   ]
  },
  {
   "cell_type": "code",
   "execution_count": null,
   "id": "552a66a1",
   "metadata": {},
   "outputs": [],
   "source": [
    "#Path to file that needs to be transcribed\n",
    "#This should be modified to cycle through files in a folder\n",
    "#path = \"../TestFilm.mov\""
   ]
  },
  {
   "cell_type": "code",
   "execution_count": null,
   "id": "2ec355b1",
   "metadata": {
    "scrolled": true
   },
   "outputs": [],
   "source": [
    "# Strip audio from video file. Not necessary for Whisper, but possible for running other analyses\n",
    "#subprocess.call(['ffmpeg', '-i', path, 'audio.wav', '-y'])\n",
    "#path= 'audio.wav'"
   ]
  },
  {
   "cell_type": "code",
   "execution_count": null,
   "id": "243b8513",
   "metadata": {},
   "outputs": [],
   "source": [
    "import json\n",
    "\n",
    "f = open('../credentials.json')\n",
    "credentials = json.load(f)\n",
    "hf_token = credentials[\"hf_token\"]\n",
    "wav2vec_model = credentials[\"wav2vec_base\"]"
   ]
  },
  {
   "cell_type": "code",
   "execution_count": null,
   "id": "6f4fb0d0",
   "metadata": {
    "scrolled": true
   },
   "outputs": [],
   "source": [
    "#start = datetime.datetime.now()\n",
    "#import torch\n",
    "#import torchvision\n",
    "\n",
    "#!whisperx \"audio.wav\" --model base --language sv --hf_token {hf_token} --vad_filter --diarize --align_model {wav2vec_model}\n",
    "\n",
    "#end = datetime.datetime.now()\n",
    "#delta = end - start\n",
    "#print(\"Runtime was \" + str(delta))"
   ]
  },
  {
   "cell_type": "code",
   "execution_count": null,
   "id": "bfe0e76c",
   "metadata": {},
   "outputs": [],
   "source": [
    "#import whisperx\n",
    "\n",
    "#device = \"cuda\" \n",
    "#audio_file = \"audio.wav\"\n",
    "#model_size = \"tiny\"\n",
    "#diarize=True\n",
    "\n",
    "# transcribe with original whisper\n",
    "#model = whisperx.load_model(model_size, device)\n",
    "#result = model.transcribe(audio_file)\n",
    "\n",
    "#print(result[\"segments\"]) # before alignment\n",
    "\n",
    "# load alignment model and metadata\n",
    "#model_a, metadata = whisperx.load_align_model(language_code=\"sv\",\n",
    "#                                              device=device,\n",
    "#                                              model_name=wav2vec_model\n",
    "#                                             )\n",
    "\n",
    "# align whisper output\n",
    "#result_aligned = whisperx.align(result[\"segments\"], model_a, metadata, audio_file, device, True)\n",
    "\n",
    "#print(result_aligned[\"segments\"]) # after alignment\n",
    "#print(result_aligned[\"word_segments\"]) # after alignment"
   ]
  },
  {
   "cell_type": "code",
   "execution_count": null,
   "id": "2fb5247a",
   "metadata": {},
   "outputs": [],
   "source": [
    "import re\n",
    "def speakers(file):\n",
    "    speakers = re.findall(\"SP_(\\d+).\", fname)\n",
    "    if not res: continue\n",
    "    return int(speakers)"
   ]
  },
  {
   "cell_type": "code",
   "execution_count": null,
   "id": "6b6c332f",
   "metadata": {},
   "outputs": [],
   "source": [
    "def isolate_audio(file):\n",
    "    wav_file = file + 'wav'\n",
    "    subprocess.call(['ffmpeg', '-i', file, wav_file, '-y'])\n",
    "    return wav_file"
   ]
  },
  {
   "cell_type": "code",
   "execution_count": null,
   "id": "4cd94f5a",
   "metadata": {},
   "outputs": [],
   "source": [
    "def transcribe(wav_file, num_speakers):\n",
    "    !whisperx {wav_file} --model base --language sv --output_type txt --hf_token {hf_token} --min_speakers {num_speakers} --vad_filter --diarize --align_model {wav2vec_model}\n"
   ]
  },
  {
   "cell_type": "code",
   "execution_count": null,
   "id": "6ad0437f",
   "metadata": {},
   "outputs": [],
   "source": [
    "def iterate():\n",
    "    start = datetime.datetime.now()\n",
    "    try:\n",
    "        \n",
    "        for filename in os.listdir(\"Data\"):\n",
    "            start_1 = start = datetime.datetime.now()\n",
    "            file_path = os.path.join(\"Data\", filename)\n",
    "            num_speakers = speakers(file_path)\n",
    "            wav_file = isolate_audio(file_path)\n",
    "            transcribe(wav_file, num_speakers)\n",
    "            end_1 = start = datetime.datetime.now()\n",
    "            delta_1 = end_1 -  start_1\n",
    "            print(\"Transkription for \" + filename + \"was \" + str(delta_1))\n",
    "            \n",
    "    except Exception as e:\n",
    "            print(f'An error has occured: {e}')\n",
    "        \n",
    "    end = datetime.datetime.now()\n",
    "    delta = end - start\n",
    "    print(\"Runtime for everything was \" + str(delta))"
   ]
  },
  {
   "cell_type": "code",
   "execution_count": null,
   "id": "7ec64031",
   "metadata": {},
   "outputs": [],
   "source": [
    "iterate()"
   ]
  }
 ],
 "metadata": {
  "kernelspec": {
   "display_name": "Python 3 (ipykernel)",
   "language": "python",
   "name": "python3"
  },
  "language_info": {
   "codemirror_mode": {
    "name": "ipython",
    "version": 3
   },
   "file_extension": ".py",
   "mimetype": "text/x-python",
   "name": "python",
   "nbconvert_exporter": "python",
   "pygments_lexer": "ipython3",
   "version": "3.10.9"
  },
  "vscode": {
   "interpreter": {
    "hash": "2c4e12c305e6735e6afde9f5feea71b06f5561a10f57b29b44d6b7254fd54df9"
   }
  }
 },
 "nbformat": 4,
 "nbformat_minor": 5
}
