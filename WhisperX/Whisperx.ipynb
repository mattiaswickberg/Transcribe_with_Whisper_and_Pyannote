{
 "cells": [
  {
   "cell_type": "code",
   "execution_count": 3,
   "id": "41a66c4a",
   "metadata": {},
   "outputs": [
    {
     "name": "stdout",
     "output_type": "stream",
     "text": [
      "\u001b[33mWARNING: Ignoring invalid distribution -vidia-cudnn-cu11 (/home/mawi/miniconda3/lib/python3.10/site-packages)\u001b[0m\u001b[33m\n",
      "\u001b[0m\u001b[33mWARNING: Ignoring invalid distribution -vidia-cudnn-cu11 (/home/mawi/miniconda3/lib/python3.10/site-packages)\u001b[0m\u001b[33m\n",
      "\u001b[0mCollecting torchvision\n",
      "  Downloading torchvision-0.14.1-cp310-cp310-manylinux1_x86_64.whl (24.2 MB)\n",
      "\u001b[2K     \u001b[90m━━━━━━━━━━━━━━━━━━━━━━━━━━━━━━━━━━━━━━━━\u001b[0m \u001b[32m24.2/24.2 MB\u001b[0m \u001b[31m6.6 MB/s\u001b[0m eta \u001b[36m0:00:00\u001b[0m00:01\u001b[0m00:01\u001b[0m\n",
      "\u001b[?25hRequirement already satisfied: torch==1.13.1 in /home/mawi/miniconda3/lib/python3.10/site-packages (from torchvision) (1.13.1)\n",
      "Requirement already satisfied: requests in /home/mawi/miniconda3/lib/python3.10/site-packages (from torchvision) (2.28.2)\n",
      "Requirement already satisfied: pillow!=8.3.*,>=5.3.0 in /home/mawi/miniconda3/lib/python3.10/site-packages (from torchvision) (9.4.0)\n",
      "Requirement already satisfied: typing-extensions in /home/mawi/miniconda3/lib/python3.10/site-packages (from torchvision) (4.4.0)\n",
      "Requirement already satisfied: numpy in /home/mawi/miniconda3/lib/python3.10/site-packages (from torchvision) (1.23.5)\n",
      "Requirement already satisfied: nvidia-cudnn-cu11==8.5.0.96 in /home/mawi/miniconda3/lib/python3.10/site-packages (from torch==1.13.1->torchvision) (8.5.0.96)\n",
      "Requirement already satisfied: nvidia-cuda-nvrtc-cu11==11.7.99 in /home/mawi/miniconda3/lib/python3.10/site-packages (from torch==1.13.1->torchvision) (11.7.99)\n",
      "Requirement already satisfied: nvidia-cublas-cu11==11.10.3.66 in /home/mawi/miniconda3/lib/python3.10/site-packages (from torch==1.13.1->torchvision) (11.10.3.66)\n",
      "Requirement already satisfied: nvidia-cuda-runtime-cu11==11.7.99 in /home/mawi/miniconda3/lib/python3.10/site-packages (from torch==1.13.1->torchvision) (11.7.99)\n",
      "Requirement already satisfied: setuptools in /home/mawi/miniconda3/lib/python3.10/site-packages (from nvidia-cublas-cu11==11.10.3.66->torch==1.13.1->torchvision) (67.2.0)\n",
      "Requirement already satisfied: wheel in /home/mawi/miniconda3/lib/python3.10/site-packages (from nvidia-cublas-cu11==11.10.3.66->torch==1.13.1->torchvision) (0.38.4)\n",
      "Requirement already satisfied: certifi>=2017.4.17 in /home/mawi/miniconda3/lib/python3.10/site-packages (from requests->torchvision) (2022.12.7)\n",
      "Requirement already satisfied: idna<4,>=2.5 in /home/mawi/miniconda3/lib/python3.10/site-packages (from requests->torchvision) (3.4)\n",
      "Requirement already satisfied: charset-normalizer<4,>=2 in /home/mawi/miniconda3/lib/python3.10/site-packages (from requests->torchvision) (2.1.1)\n",
      "Requirement already satisfied: urllib3<1.27,>=1.21.1 in /home/mawi/miniconda3/lib/python3.10/site-packages (from requests->torchvision) (1.26.14)\n",
      "\u001b[33mWARNING: Ignoring invalid distribution -vidia-cudnn-cu11 (/home/mawi/miniconda3/lib/python3.10/site-packages)\u001b[0m\u001b[33m\n",
      "\u001b[0mInstalling collected packages: torchvision\n",
      "\u001b[33mWARNING: Ignoring invalid distribution -vidia-cudnn-cu11 (/home/mawi/miniconda3/lib/python3.10/site-packages)\u001b[0m\u001b[33m\n",
      "\u001b[0mSuccessfully installed torchvision-0.14.1\n",
      "\u001b[33mWARNING: Ignoring invalid distribution -vidia-cudnn-cu11 (/home/mawi/miniconda3/lib/python3.10/site-packages)\u001b[0m\u001b[33m\n",
      "\u001b[0m\u001b[33mWARNING: Ignoring invalid distribution -vidia-cudnn-cu11 (/home/mawi/miniconda3/lib/python3.10/site-packages)\u001b[0m\u001b[33m\n",
      "\u001b[0m\u001b[33mWARNING: Ignoring invalid distribution -vidia-cudnn-cu11 (/home/mawi/miniconda3/lib/python3.10/site-packages)\u001b[0m\u001b[33m\n",
      "\u001b[0m"
     ]
    }
   ],
   "source": [
    "#!pip install -qq git+https://github.com/openai/whisper.git \n",
    "#!pip install git+https://github.com/mattiaswickberg/whisperx.git\n",
    "#!pip install torchvision"
   ]
  },
  {
   "cell_type": "code",
   "execution_count": 4,
   "id": "6a027dcd",
   "metadata": {},
   "outputs": [],
   "source": [
    "import subprocess #if stripping audio from video file\n",
    "import datetime #to print time of start and end of analysis\n",
    "import torch\n",
    "import torchvision"
   ]
  },
  {
   "cell_type": "code",
   "execution_count": 5,
   "id": "243b8513",
   "metadata": {},
   "outputs": [],
   "source": [
    "import json\n",
    "\n",
    "f = open('../credentials.json')\n",
    "credentials = json.load(f)\n",
    "hf_token = credentials[\"hf_token\"]\n",
    "wav2vec_model = credentials[\"wav2vec_base\"]"
   ]
  },
  {
   "cell_type": "code",
   "execution_count": 39,
   "id": "2fb5247a",
   "metadata": {},
   "outputs": [],
   "source": [
    "import re\n",
    "def speakers(file):\n",
    "    speakers = re.findall(\"SP_(\\d+).\", file)\n",
    "    if len(speakers) > 0:\n",
    "        return int(speakers[0])\n",
    "    else: \n",
    "        return 1"
   ]
  },
  {
   "cell_type": "code",
   "execution_count": 26,
   "id": "6b6c332f",
   "metadata": {},
   "outputs": [],
   "source": [
    "def isolate_audio(file):\n",
    "    wav_file = file + '.wav'\n",
    "    subprocess.call(['ffmpeg', '-i', file, wav_file, '-y'])\n",
    "    return wav_file"
   ]
  },
  {
   "cell_type": "code",
   "execution_count": 12,
   "id": "4cd94f5a",
   "metadata": {},
   "outputs": [],
   "source": [
    "def transcribe(wav_file, num_speakers):\n",
    "    !whisperx {wav_file} --model base --language sv --output_type txt --hf_token {hf_token} --min_speakers {num_speakers} --vad_filter --diarize --align_model {wav2vec_model}\n"
   ]
  },
  {
   "cell_type": "code",
   "execution_count": 47,
   "id": "38639991",
   "metadata": {},
   "outputs": [],
   "source": [
    "def log_file(text):\n",
    "    with open('log_file.txt', 'a') as file:\n",
    "        s = \"\".join(text)\n",
    "        file.write(s)"
   ]
  },
  {
   "cell_type": "code",
   "execution_count": 49,
   "id": "6ad0437f",
   "metadata": {},
   "outputs": [],
   "source": [
    "import os\n",
    "\n",
    "def iterate():\n",
    "    start = datetime.datetime.now()\n",
    "    try:\n",
    "        \n",
    "        for filename in os.listdir(\"Data\"):\n",
    "            start_1 = start = datetime.datetime.now()\n",
    "            file_path = os.path.join(\"Data\", filename)\n",
    "            num_speakers = speakers(file_path)\n",
    "            wav_file = isolate_audio(file_path)\n",
    "            transcribe(wav_file, num_speakers)\n",
    "            end_1 = start = datetime.datetime.now()\n",
    "            delta_1 = end_1 -  start_1\n",
    "            log_file(\"Transkription for \" + filename + \" was \" + str(delta_1) + '\\n')\n",
    "            \n",
    "    except Exception as e:\n",
    "            print(f'An error has occured: {e}')\n",
    "        \n",
    "    end = datetime.datetime.now()\n",
    "    delta = end - start\n",
    "    log_file(\"Runtime for whole batch was \" + str(delta) +('\\n'))"
   ]
  },
  {
   "cell_type": "code",
   "execution_count": 48,
   "id": "7ec64031",
   "metadata": {},
   "outputs": [
    {
     "name": "stdout",
     "output_type": "stream",
     "text": [
      "1\n"
     ]
    },
    {
     "name": "stderr",
     "output_type": "stream",
     "text": [
      "ffmpeg version 4.4.2-0ubuntu0.22.04.1 Copyright (c) 2000-2021 the FFmpeg developers\n",
      "  built with gcc 11 (Ubuntu 11.2.0-19ubuntu1)\n",
      "  configuration: --prefix=/usr --extra-version=0ubuntu0.22.04.1 --toolchain=hardened --libdir=/usr/lib/x86_64-linux-gnu --incdir=/usr/include/x86_64-linux-gnu --arch=amd64 --enable-gpl --disable-stripping --enable-gnutls --enable-ladspa --enable-libaom --enable-libass --enable-libbluray --enable-libbs2b --enable-libcaca --enable-libcdio --enable-libcodec2 --enable-libdav1d --enable-libflite --enable-libfontconfig --enable-libfreetype --enable-libfribidi --enable-libgme --enable-libgsm --enable-libjack --enable-libmp3lame --enable-libmysofa --enable-libopenjpeg --enable-libopenmpt --enable-libopus --enable-libpulse --enable-librabbitmq --enable-librubberband --enable-libshine --enable-libsnappy --enable-libsoxr --enable-libspeex --enable-libsrt --enable-libssh --enable-libtheora --enable-libtwolame --enable-libvidstab --enable-libvorbis --enable-libvpx --enable-libwebp --enable-libx265 --enable-libxml2 --enable-libxvid --enable-libzimg --enable-libzmq --enable-libzvbi --enable-lv2 --enable-omx --enable-openal --enable-opencl --enable-opengl --enable-sdl2 --enable-pocketsphinx --enable-librsvg --enable-libmfx --enable-libdc1394 --enable-libdrm --enable-libiec61883 --enable-chromaprint --enable-frei0r --enable-libx264 --enable-shared\n",
      "  libavutil      56. 70.100 / 56. 70.100\n",
      "  libavcodec     58.134.100 / 58.134.100\n",
      "  libavformat    58. 76.100 / 58. 76.100\n",
      "  libavdevice    58. 13.100 / 58. 13.100\n",
      "  libavfilter     7.110.100 /  7.110.100\n",
      "  libswscale      5.  9.100 /  5.  9.100\n",
      "  libswresample   3.  9.100 /  3.  9.100\n",
      "  libpostproc    55.  9.100 / 55.  9.100\n",
      "Input #0, mp3, from 'Data/out003SP_2.mp3':\n",
      "  Metadata:\n",
      "    encoder         : Lavf59.27.100\n",
      "  Duration: 00:00:29.99, start: 0.011995, bitrate: 160 kb/s\n",
      "  Stream #0:0: Audio: mp3, 44100 Hz, mono, fltp, 160 kb/s\n",
      "Stream mapping:\n",
      "  Stream #0:0 -> #0:0 (mp3 (mp3float) -> pcm_s16le (native))\n",
      "Press [q] to stop, [?] for help\n",
      "Output #0, wav, to 'Data/out003SP_2.mp3.wav':\n",
      "  Metadata:\n",
      "    ISFT            : Lavf58.76.100\n",
      "  Stream #0:0: Audio: pcm_s16le ([1][0][0][0] / 0x0001), 44100 Hz, mono, s16, 705 kb/s\n",
      "    Metadata:\n",
      "      encoder         : Lavc58.134.100 pcm_s16le\n",
      "size=       1kB time=00:00:00.00 bitrate=N/A speed=N/A    \r",
      "size=    2582kB time=00:00:29.95 bitrate= 706.2kbits/s speed= 835x    \n",
      "video:0kB audio:2582kB subtitle:0kB other streams:0kB global headers:0kB muxing overhead: 0.002950%\n"
     ]
    },
    {
     "name": "stdout",
     "output_type": "stream",
     "text": [
      "Performing VAD...\n",
      "~~ Transcribing VAD chunk: (00:00.000 --> 00:29.928) ~~\n",
      "[00:00.000 --> 00:09.000]  Grejen var, då vi kollar igenom, förra veckan när det var så gjorde du matias.\n",
      "[00:09.000 --> 00:15.000]  Ja, det var en självmenspelning här och då vi tittade igenom så var det en, det var rätt liksom.\n",
      "[00:15.000 --> 00:21.000]  Vi sådant sak var fel då, men mot så annars sitter och knackar in bara randa så bara sker upp.\n",
      "[00:21.000 --> 00:30.000]  Och det här är då sen som precis som säger det, men även bara, även om man behöver ha ett grej här, för han tog...\n",
      "Performing alignment...\n",
      "Performing diarization...\n",
      "0\n"
     ]
    },
    {
     "name": "stderr",
     "output_type": "stream",
     "text": [
      "ffmpeg version 4.4.2-0ubuntu0.22.04.1 Copyright (c) 2000-2021 the FFmpeg developers\n",
      "  built with gcc 11 (Ubuntu 11.2.0-19ubuntu1)\n",
      "  configuration: --prefix=/usr --extra-version=0ubuntu0.22.04.1 --toolchain=hardened --libdir=/usr/lib/x86_64-linux-gnu --incdir=/usr/include/x86_64-linux-gnu --arch=amd64 --enable-gpl --disable-stripping --enable-gnutls --enable-ladspa --enable-libaom --enable-libass --enable-libbluray --enable-libbs2b --enable-libcaca --enable-libcdio --enable-libcodec2 --enable-libdav1d --enable-libflite --enable-libfontconfig --enable-libfreetype --enable-libfribidi --enable-libgme --enable-libgsm --enable-libjack --enable-libmp3lame --enable-libmysofa --enable-libopenjpeg --enable-libopenmpt --enable-libopus --enable-libpulse --enable-librabbitmq --enable-librubberband --enable-libshine --enable-libsnappy --enable-libsoxr --enable-libspeex --enable-libsrt --enable-libssh --enable-libtheora --enable-libtwolame --enable-libvidstab --enable-libvorbis --enable-libvpx --enable-libwebp --enable-libx265 --enable-libxml2 --enable-libxvid --enable-libzimg --enable-libzmq --enable-libzvbi --enable-lv2 --enable-omx --enable-openal --enable-opencl --enable-opengl --enable-sdl2 --enable-pocketsphinx --enable-librsvg --enable-libmfx --enable-libdc1394 --enable-libdrm --enable-libiec61883 --enable-chromaprint --enable-frei0r --enable-libx264 --enable-shared\n",
      "  libavutil      56. 70.100 / 56. 70.100\n",
      "  libavcodec     58.134.100 / 58.134.100\n",
      "  libavformat    58. 76.100 / 58. 76.100\n",
      "  libavdevice    58. 13.100 / 58. 13.100\n",
      "  libavfilter     7.110.100 /  7.110.100\n",
      "  libswscale      5.  9.100 /  5.  9.100\n",
      "  libswresample   3.  9.100 /  3.  9.100\n",
      "  libpostproc    55.  9.100 / 55.  9.100\n",
      "Input #0, mp3, from 'Data/out005.mp3':\n",
      "  Metadata:\n",
      "    encoder         : Lavf59.27.100\n",
      "  Duration: 00:00:29.99, start: 0.011995, bitrate: 160 kb/s\n",
      "  Stream #0:0: Audio: mp3, 44100 Hz, mono, fltp, 160 kb/s\n",
      "Stream mapping:\n",
      "  Stream #0:0 -> #0:0 (mp3 (mp3float) -> pcm_s16le (native))\n",
      "Press [q] to stop, [?] for help\n",
      "Output #0, wav, to 'Data/out005.mp3.wav':\n",
      "  Metadata:\n",
      "    ISFT            : Lavf58.76.100\n",
      "  Stream #0:0: Audio: pcm_s16le ([1][0][0][0] / 0x0001), 44100 Hz, mono, s16, 705 kb/s\n",
      "    Metadata:\n",
      "      encoder         : Lavc58.134.100 pcm_s16le\n",
      "size=       1kB time=00:00:00.00 bitrate=N/A speed=N/A    \r",
      "size=    2582kB time=00:00:29.95 bitrate= 706.2kbits/s speed= 786x    \n",
      "video:0kB audio:2582kB subtitle:0kB other streams:0kB global headers:0kB muxing overhead: 0.002950%\n"
     ]
    },
    {
     "name": "stdout",
     "output_type": "stream",
     "text": [
      "Performing VAD...\n",
      "~~ Transcribing VAD chunk: (00:00.000 --> 00:29.928) ~~\n",
      "[00:00.000 --> 00:02.000]  Process och kraft.\n",
      "[00:02.000 --> 00:07.000]  Det är ju ett sätt som som uppfinning av diskmaskinen alltså.\n",
      "[00:07.000 --> 00:09.000]  Ja.\n",
      "[00:09.000 --> 00:12.000]  Ja.\n",
      "[00:12.000 --> 00:14.000]  Och inte tala om fettmaskinen.\n",
      "[00:14.000 --> 00:15.000]  Men att åvars...\n",
      "[00:15.000 --> 00:16.000]  Det var de håll.\n",
      "[00:16.000 --> 00:20.000]  Alltså, fettmaskinen tror att det finns till och med sociologiska studier.\n",
      "[00:20.000 --> 00:24.000]  Med vad de har betyd för kvinnas fettmaskinen.\n",
      "[00:24.000 --> 00:26.000]  För kvinnas friöra.\n",
      "[00:26.000 --> 00:28.000]  Men diskmaskinen täcker det.\n",
      "[00:28.000 --> 00:30.000]  Det kläver ju i förändringen.\n",
      "Performing alignment...\n",
      "Performing diarization...\n",
      "0\n"
     ]
    },
    {
     "name": "stderr",
     "output_type": "stream",
     "text": [
      "ffmpeg version 4.4.2-0ubuntu0.22.04.1 Copyright (c) 2000-2021 the FFmpeg developers\n",
      "  built with gcc 11 (Ubuntu 11.2.0-19ubuntu1)\n",
      "  configuration: --prefix=/usr --extra-version=0ubuntu0.22.04.1 --toolchain=hardened --libdir=/usr/lib/x86_64-linux-gnu --incdir=/usr/include/x86_64-linux-gnu --arch=amd64 --enable-gpl --disable-stripping --enable-gnutls --enable-ladspa --enable-libaom --enable-libass --enable-libbluray --enable-libbs2b --enable-libcaca --enable-libcdio --enable-libcodec2 --enable-libdav1d --enable-libflite --enable-libfontconfig --enable-libfreetype --enable-libfribidi --enable-libgme --enable-libgsm --enable-libjack --enable-libmp3lame --enable-libmysofa --enable-libopenjpeg --enable-libopenmpt --enable-libopus --enable-libpulse --enable-librabbitmq --enable-librubberband --enable-libshine --enable-libsnappy --enable-libsoxr --enable-libspeex --enable-libsrt --enable-libssh --enable-libtheora --enable-libtwolame --enable-libvidstab --enable-libvorbis --enable-libvpx --enable-libwebp --enable-libx265 --enable-libxml2 --enable-libxvid --enable-libzimg --enable-libzmq --enable-libzvbi --enable-lv2 --enable-omx --enable-openal --enable-opencl --enable-opengl --enable-sdl2 --enable-pocketsphinx --enable-librsvg --enable-libmfx --enable-libdc1394 --enable-libdrm --enable-libiec61883 --enable-chromaprint --enable-frei0r --enable-libx264 --enable-shared\n",
      "  libavutil      56. 70.100 / 56. 70.100\n",
      "  libavcodec     58.134.100 / 58.134.100\n",
      "  libavformat    58. 76.100 / 58. 76.100\n",
      "  libavdevice    58. 13.100 / 58. 13.100\n",
      "  libavfilter     7.110.100 /  7.110.100\n",
      "  libswscale      5.  9.100 /  5.  9.100\n",
      "  libswresample   3.  9.100 /  3.  9.100\n",
      "  libpostproc    55.  9.100 / 55.  9.100\n",
      "Data/.ipynb_checkpoints: Is a directory\n"
     ]
    },
    {
     "name": "stdout",
     "output_type": "stream",
     "text": [
      "Performing VAD...\n",
      "Traceback (most recent call last):\n",
      "  File \"/home/mawi/miniconda3/lib/python3.10/site-packages/whisperx/audio.py\", line 42, in load_audio\n",
      "    ffmpeg.input(file, threads=0)\n",
      "  File \"/home/mawi/miniconda3/lib/python3.10/site-packages/ffmpeg/_run.py\", line 325, in run\n",
      "    raise Error('ffmpeg', out, err)\n",
      "ffmpeg._run.Error: ffmpeg error (see stderr output for detail)\n",
      "\n",
      "The above exception was the direct cause of the following exception:\n",
      "\n",
      "Traceback (most recent call last):\n",
      "  File \"/home/mawi/miniconda3/bin/whisperx\", line 8, in <module>\n",
      "    sys.exit(cli())\n",
      "  File \"/home/mawi/miniconda3/lib/python3.10/site-packages/whisperx/transcribe.py\", line 688, in cli\n",
      "    result = transcribe_with_vad(model, audio_path, vad_pipeline, temperature=temperature, **args)\n",
      "  File \"/home/mawi/miniconda3/lib/python3.10/site-packages/whisperx/transcribe.py\", line 313, in transcribe_with_vad\n",
      "    mel = log_mel_spectrogram(audio)\n",
      "  File \"/home/mawi/miniconda3/lib/python3.10/site-packages/whisperx/audio.py\", line 111, in log_mel_spectrogram\n",
      "    audio = load_audio(audio)\n",
      "  File \"/home/mawi/miniconda3/lib/python3.10/site-packages/whisperx/audio.py\", line 47, in load_audio\n",
      "    raise RuntimeError(f\"Failed to load audio: {e.stderr.decode()}\") from e\n",
      "RuntimeError: Failed to load audio: ffmpeg version 4.4.2-0ubuntu0.22.04.1 Copyright (c) 2000-2021 the FFmpeg developers\n",
      "  built with gcc 11 (Ubuntu 11.2.0-19ubuntu1)\n",
      "  configuration: --prefix=/usr --extra-version=0ubuntu0.22.04.1 --toolchain=hardened --libdir=/usr/lib/x86_64-linux-gnu --incdir=/usr/include/x86_64-linux-gnu --arch=amd64 --enable-gpl --disable-stripping --enable-gnutls --enable-ladspa --enable-libaom --enable-libass --enable-libbluray --enable-libbs2b --enable-libcaca --enable-libcdio --enable-libcodec2 --enable-libdav1d --enable-libflite --enable-libfontconfig --enable-libfreetype --enable-libfribidi --enable-libgme --enable-libgsm --enable-libjack --enable-libmp3lame --enable-libmysofa --enable-libopenjpeg --enable-libopenmpt --enable-libopus --enable-libpulse --enable-librabbitmq --enable-librubberband --enable-libshine --enable-libsnappy --enable-libsoxr --enable-libspeex --enable-libsrt --enable-libssh --enable-libtheora --enable-libtwolame --enable-libvidstab --enable-libvorbis --enable-libvpx --enable-libwebp --enable-libx265 --enable-libxml2 --enable-libxvid --enable-libzimg --enable-libzmq --enable-libzvbi --enable-lv2 --enable-omx --enable-openal --enable-opencl --enable-opengl --enable-sdl2 --enable-pocketsphinx --enable-librsvg --enable-libmfx --enable-libdc1394 --enable-libdrm --enable-libiec61883 --enable-chromaprint --enable-frei0r --enable-libx264 --enable-shared\n",
      "  libavutil      56. 70.100 / 56. 70.100\n",
      "  libavcodec     58.134.100 / 58.134.100\n",
      "  libavformat    58. 76.100 / 58. 76.100\n",
      "  libavdevice    58. 13.100 / 58. 13.100\n",
      "  libavfilter     7.110.100 /  7.110.100\n",
      "  libswscale      5.  9.100 /  5.  9.100\n",
      "  libswresample   3.  9.100 /  3.  9.100\n",
      "  libpostproc    55.  9.100 / 55.  9.100\n",
      "Data/.ipynb_checkpoints.wav: No such file or directory\n",
      "\n",
      "0\n"
     ]
    },
    {
     "name": "stderr",
     "output_type": "stream",
     "text": [
      "ffmpeg version 4.4.2-0ubuntu0.22.04.1 Copyright (c) 2000-2021 the FFmpeg developers\n",
      "  built with gcc 11 (Ubuntu 11.2.0-19ubuntu1)\n",
      "  configuration: --prefix=/usr --extra-version=0ubuntu0.22.04.1 --toolchain=hardened --libdir=/usr/lib/x86_64-linux-gnu --incdir=/usr/include/x86_64-linux-gnu --arch=amd64 --enable-gpl --disable-stripping --enable-gnutls --enable-ladspa --enable-libaom --enable-libass --enable-libbluray --enable-libbs2b --enable-libcaca --enable-libcdio --enable-libcodec2 --enable-libdav1d --enable-libflite --enable-libfontconfig --enable-libfreetype --enable-libfribidi --enable-libgme --enable-libgsm --enable-libjack --enable-libmp3lame --enable-libmysofa --enable-libopenjpeg --enable-libopenmpt --enable-libopus --enable-libpulse --enable-librabbitmq --enable-librubberband --enable-libshine --enable-libsnappy --enable-libsoxr --enable-libspeex --enable-libsrt --enable-libssh --enable-libtheora --enable-libtwolame --enable-libvidstab --enable-libvorbis --enable-libvpx --enable-libwebp --enable-libx265 --enable-libxml2 --enable-libxvid --enable-libzimg --enable-libzmq --enable-libzvbi --enable-lv2 --enable-omx --enable-openal --enable-opencl --enable-opengl --enable-sdl2 --enable-pocketsphinx --enable-librsvg --enable-libmfx --enable-libdc1394 --enable-libdrm --enable-libiec61883 --enable-chromaprint --enable-frei0r --enable-libx264 --enable-shared\n",
      "  libavutil      56. 70.100 / 56. 70.100\n",
      "  libavcodec     58.134.100 / 58.134.100\n",
      "  libavformat    58. 76.100 / 58. 76.100\n",
      "  libavdevice    58. 13.100 / 58. 13.100\n",
      "  libavfilter     7.110.100 /  7.110.100\n",
      "  libswscale      5.  9.100 /  5.  9.100\n",
      "  libswresample   3.  9.100 /  3.  9.100\n",
      "  libpostproc    55.  9.100 / 55.  9.100\n",
      "Input #0, mp3, from 'Data/out004.mp3':\n",
      "  Metadata:\n",
      "    encoder         : Lavf59.27.100\n",
      "  Duration: 00:00:30.01, start: 0.011995, bitrate: 160 kb/s\n",
      "  Stream #0:0: Audio: mp3, 44100 Hz, mono, fltp, 160 kb/s\n",
      "Stream mapping:\n",
      "  Stream #0:0 -> #0:0 (mp3 (mp3float) -> pcm_s16le (native))\n",
      "Press [q] to stop, [?] for help\n",
      "Output #0, wav, to 'Data/out004.mp3.wav':\n",
      "  Metadata:\n",
      "    ISFT            : Lavf58.76.100\n",
      "  Stream #0:0: Audio: pcm_s16le ([1][0][0][0] / 0x0001), 44100 Hz, mono, s16, 705 kb/s\n",
      "    Metadata:\n",
      "      encoder         : Lavc58.134.100 pcm_s16le\n",
      "size=       1kB time=00:00:00.00 bitrate=N/A speed=N/A    \r",
      "size=    2584kB time=00:00:29.97 bitrate= 706.2kbits/s speed= 845x    \n",
      "video:0kB audio:2584kB subtitle:0kB other streams:0kB global headers:0kB muxing overhead: 0.002948%\n"
     ]
    },
    {
     "name": "stdout",
     "output_type": "stream",
     "text": [
      "Performing VAD...\n",
      "~~ Transcribing VAD chunk: (00:00.000 --> 00:29.962) ~~\n",
      "[00:00.000 --> 00:06.400]  Kriva in, nu tar det ett, tar det två tre, alltså det är ju mitt lite jobb igen för mig.\n",
      "[00:06.400 --> 00:07.680]  Ja, tjej.\n",
      "[00:07.680 --> 00:10.920]  Det är med absolut, men jag tänkte att när givet ändå...\n",
      "[00:10.920 --> 00:15.200]  När ändå håller på så vill jag gärna få det för liksom att få...\n",
      "[00:15.200 --> 00:16.880]  Håller det för att ta med dig?\n",
      "[00:16.880 --> 00:18.080]  Ja, vad det går.\n",
      "[00:18.080 --> 00:19.840]  Ja, det gör det.\n",
      "[00:19.840 --> 00:21.480]  Det är...\n",
      "[00:22.480 --> 00:29.440]  Behöver vi, håller på att försöka diskutera lite hur vi kan läsa tillgången till...\n",
      "Performing alignment...\n",
      "Performing diarization...\n"
     ]
    }
   ],
   "source": [
    "iterate()"
   ]
  },
  {
   "cell_type": "code",
   "execution_count": null,
   "id": "0cb0d46e",
   "metadata": {},
   "outputs": [],
   "source": []
  }
 ],
 "metadata": {
  "kernelspec": {
   "display_name": "Python 3 (ipykernel)",
   "language": "python",
   "name": "python3"
  },
  "language_info": {
   "codemirror_mode": {
    "name": "ipython",
    "version": 3
   },
   "file_extension": ".py",
   "mimetype": "text/x-python",
   "name": "python",
   "nbconvert_exporter": "python",
   "pygments_lexer": "ipython3",
   "version": "3.10.9"
  },
  "vscode": {
   "interpreter": {
    "hash": "2c4e12c305e6735e6afde9f5feea71b06f5561a10f57b29b44d6b7254fd54df9"
   }
  }
 },
 "nbformat": 4,
 "nbformat_minor": 5
}
